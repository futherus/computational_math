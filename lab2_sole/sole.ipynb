{
 "cells": [
  {
   "cell_type": "code",
   "execution_count": 11,
   "metadata": {},
   "outputs": [],
   "source": [
    "import numpy as np\n",
    "import sympy as sym\n",
    "import matplotlib.pyplot as plt\n",
    "import math\n",
    "import scipy as sp\n",
    "import scipy.optimize as op\n",
    "import pandas as pd\n",
    "from scipy.interpolate import UnivariateSpline\n",
    "import os\n",
    "import sys\n",
    "from IPython.display import display, Markdown\n"
   ]
  },
  {
   "cell_type": "markdown",
   "metadata": {},
   "source": [
    "## Решение СЛАУ"
   ]
  },
  {
   "cell_type": "markdown",
   "metadata": {},
   "source": [
    "Аристова, Завьялова, Лобанов, II.10.6, вариант п)\n",
    "\n",
    "![title](res/variant.png)"
   ]
  },
  {
   "cell_type": "code",
   "execution_count": 12,
   "metadata": {},
   "outputs": [],
   "source": [
    "n = 100\n",
    "\n",
    "def initialMatrix():\n",
    "    a_i = lambda i: 1\n",
    "    b_i = lambda i: 10 + (i+1)\n",
    "    c_i = lambda i: 1\n",
    "    p_i = lambda i: 1 if (i == 0 or i == n) else 2\n",
    "\n",
    "    matA = np.zeros((n + 1, n + 1))\n",
    "\n",
    "    for idx in range(0, n):\n",
    "        matA[idx, idx] = b_i(idx)\n",
    "\n",
    "    for idx in range(0, n - 1):\n",
    "        matA[idx + 1, idx] = a_i(idx)\n",
    "\n",
    "    for idx in range(0, n):\n",
    "        matA[idx, idx + 1] = c_i(idx)\n",
    "\n",
    "    for idx in range(0, n + 1):\n",
    "        matA[n, idx] = p_i(idx)\n",
    "    \n",
    "    return matA\n",
    "\n",
    "def initialFreevec():\n",
    "    f_i = lambda i: (i+1) / n\n",
    "    \n",
    "    vecF = np.empty([n + 1])\n",
    "    for idx in range(0, n + 1):\n",
    "        vecF[idx] = f_i(idx)\n",
    "\n",
    "    return vecF\n",
    "\n",
    "def dumpMatrix(matrix):\n",
    "    display(pd.DataFrame(matrix))\n",
    "\n",
    "# dumpMatrix(initialMatrix())\n",
    "# dumpMatrix(initialFreevec())"
   ]
  },
  {
   "cell_type": "code",
   "execution_count": 13,
   "metadata": {},
   "outputs": [],
   "source": [
    "def norm(vec):\n",
    "    return np.linalg.norm(vec, ord=np.inf)\n",
    "\n",
    "def mat_norm(matrix):\n",
    "    return np.linalg.norm(matrix, ord=np.inf)"
   ]
  },
  {
   "cell_type": "markdown",
   "metadata": {},
   "source": [
    "### Метод Гаусса"
   ]
  },
  {
   "cell_type": "code",
   "execution_count": 14,
   "metadata": {},
   "outputs": [],
   "source": [
    "def swapCols(matrix, first, second):\n",
    "    matrix[:, [first, second]] = matrix[:, [second, first]]\n",
    "\n",
    "def swapRows(matrix, first, second):\n",
    "    matrix[[first, second]] = matrix[[second, first]]\n",
    "\n",
    "def soleGauss(matrix, free):\n",
    "    matrix = matrix.copy()\n",
    "    free = free.copy()\n",
    "    dim = matrix.shape[0]\n",
    "\n",
    "    # Positions of variables\n",
    "    vars = np.arange(dim)\n",
    "\n",
    "    # Direct pass with choosing max leader\n",
    "    for cur in range(0, dim - 1):\n",
    "        # Find max value in submatrix\n",
    "        submatrix = matrix[cur:, cur:]\n",
    "        max_y, max_x = np.unravel_index(np.argmax(submatrix), submatrix.shape)\n",
    "        max_y += cur\n",
    "        max_x += cur\n",
    "\n",
    "        # Swap with leader\n",
    "        swapRows(matrix, cur, max_y)\n",
    "        swapCols(matrix, cur, max_x)\n",
    "        vars[[cur, max_x]] = vars[[max_x, cur]]\n",
    "        free[[cur, max_y]] = free[[max_y, cur]]\n",
    "\n",
    "        # Subtract current row from remaining rows\n",
    "        for idx in range(cur + 1, dim):\n",
    "            factor = matrix[idx, cur] / matrix[cur, cur]\n",
    "            matrix[idx] -= factor * matrix[cur]\n",
    "            free[idx]   -= factor * free[cur]\n",
    "\n",
    "    roots = np.zeros(dim)\n",
    "    for cur in reversed(range(0, dim)):\n",
    "        tmp = free[cur]\n",
    "        for idx in range(cur + 1, dim):\n",
    "            tmp -= matrix[cur, idx] * roots[idx]\n",
    "\n",
    "        roots[cur] = tmp / matrix[cur][cur]\n",
    "\n",
    "    # Restore variable order\n",
    "    roots = roots[vars]\n",
    "    return roots\n"
   ]
  },
  {
   "cell_type": "code",
   "execution_count": 15,
   "metadata": {},
   "outputs": [
    {
     "name": "stdout",
     "output_type": "stream",
     "text": [
      "3.3306690738754696e-16\n",
      "2.220446049250313e-16\n"
     ]
    }
   ],
   "source": [
    "A = initialMatrix()\n",
    "f = initialFreevec()\n",
    "\n",
    "roots = soleGauss(A, f)\n",
    "ref_roots = np.linalg.solve(A, f)\n",
    "\n",
    "print(norm(roots - ref_roots))\n",
    "print(norm(np.matmul(A, roots) - f))"
   ]
  },
  {
   "cell_type": "markdown",
   "metadata": {},
   "source": [
    "## LU-разложение"
   ]
  },
  {
   "cell_type": "code",
   "execution_count": 16,
   "metadata": {},
   "outputs": [],
   "source": [
    "def getLU(matrix):\n",
    "    dim = matrix.shape[0]\n",
    "    U = matrix.copy()\n",
    "    L = np.identity(dim)\n",
    "\n",
    "    for leader in range(0, dim):\n",
    "        for idx in range(leader + 1, dim):\n",
    "            L[idx, leader] = U[idx, leader] / U[leader, leader]\n",
    "            U[idx] -= L[idx, leader] * U[leader]\n",
    "\n",
    "    return L, U\n",
    "\n",
    "def soleLU(matrix, free):\n",
    "    dim = matrix.shape[0]\n",
    "\n",
    "    L, U = getLU(matrix)\n",
    "\n",
    "    # Ly = free\n",
    "    y = np.zeros(dim)\n",
    "    for cur in range(0, dim):\n",
    "        tmp = free[cur]\n",
    "        for idx in range(0, cur):\n",
    "            tmp -= L[cur, idx] * y[idx]\n",
    "        y[cur] = tmp / L[cur, cur]\n",
    "    \n",
    "    # Ux = y\n",
    "    x = np.zeros(dim)\n",
    "    for cur in reversed(range(0, dim)):\n",
    "        tmp = y[cur]\n",
    "        for idx in range(cur + 1, dim):\n",
    "            tmp -= U[cur, idx] * x[idx]\n",
    "        x[cur] = tmp / U[cur][cur]\n",
    "\n",
    "    return x"
   ]
  },
  {
   "cell_type": "code",
   "execution_count": 17,
   "metadata": {},
   "outputs": [
    {
     "name": "stdout",
     "output_type": "stream",
     "text": [
      "LU разложение:\n",
      "8.673617379884035e-17\n",
      "6.02917840337046e-15\n",
      "Корни:\n",
      "1.1102230246251565e-16\n",
      "2.220446049250313e-16\n",
      "2.220446049250313e-16\n"
     ]
    }
   ],
   "source": [
    "A = initialMatrix()\n",
    "f = initialFreevec()\n",
    "\n",
    "L, U = getLU(A)\n",
    "L_ref, U_ref = sp.linalg.lu(A, permute_l=True)\n",
    "print(\"LU разложение:\")\n",
    "print(mat_norm(L - L_ref))\n",
    "print(mat_norm(U - U_ref))\n",
    "\n",
    "ref_roots = np.linalg.solve(A, f)\n",
    "roots = soleLU(A, f)\n",
    "\n",
    "print(\"Корни:\")\n",
    "print(norm(roots - ref_roots))\n",
    "print(norm(np.matmul(A, roots) - f))\n",
    "print(norm(np.matmul(A, ref_roots) - f))\n"
   ]
  },
  {
   "cell_type": "markdown",
   "metadata": {},
   "source": [
    "## Итерационные методы"
   ]
  },
  {
   "cell_type": "code",
   "execution_count": 18,
   "metadata": {},
   "outputs": [],
   "source": [
    "def soleFpi(n_iter, B, F, matrix, free):\n",
    "    dim = matrix.shape[0]\n",
    "    u = np.zeros(dim)\n",
    "\n",
    "    diff = []\n",
    "    for it in range(0, n_iter):\n",
    "        u = np.matmul(B, u) + F\n",
    "        diff.append(norm(np.matmul(matrix, u) - f))\n",
    "    \n",
    "    return u, diff\n",
    "\n",
    "def getLDU(matrix):\n",
    "    dim = matrix.shape[0]\n",
    "\n",
    "    inds = np.tril_indices(dim, k=-1) \n",
    "    L = np.zeros(matrix.shape)\n",
    "    L[inds] = matrix[inds]\n",
    "\n",
    "    inds = np.triu_indices(dim, k=1)\n",
    "    U = np.zeros(matrix.shape)\n",
    "    U[inds] = matrix[inds]\n",
    "\n",
    "    inds = np.diag_indices(dim)\n",
    "    D = np.zeros(matrix.shape)\n",
    "    D[inds] = matrix[inds]\n",
    "\n",
    "    return L, D, U"
   ]
  },
  {
   "cell_type": "code",
   "execution_count": 19,
   "metadata": {},
   "outputs": [],
   "source": [
    "def soleZeydel(n_iter, matrix, free):\n",
    "    L, D, U = getLDU(matrix)\n",
    "    B = - np.matmul(np.linalg.inv(L + D), U)\n",
    "    F = np.matmul(np.linalg.inv(L + D), free)\n",
    "\n",
    "    return soleFpi(n_iter, B, F, matrix, free)\n",
    "\n",
    "def soleJacobi(n_iter, matrix, free):\n",
    "    L, D, U = getLDU(matrix)\n",
    "    B = - np.matmul(np.linalg.inv(D), L + U)\n",
    "    F = np.matmul(np.linalg.inv(D), free)\n",
    "\n",
    "    return soleFpi(n_iter, B, F, matrix, free)\n",
    "\n",
    "def soleSOR(n_iter, matrix, free, tau):\n",
    "    L, D, U = getLDU(matrix)\n",
    "    B = - np.matmul(np.linalg.inv(D + tau * L), (tau - 1) * D + tau * U)\n",
    "    F = tau * np.matmul(np.linalg.inv(D + tau * L), free)\n",
    "\n",
    "    return soleFpi(n_iter, B, F, matrix, free)"
   ]
  },
  {
   "cell_type": "code",
   "execution_count": 28,
   "metadata": {},
   "outputs": [
    {
     "name": "stdout",
     "output_type": "stream",
     "text": [
      "Сравнение (Зейдель):\n",
      "2.220446049250313e-16\n",
      "2.220446049250313e-16\n",
      "2.220446049250313e-16\n",
      "Сравнение (Якоби):\n",
      "1.6653345369377348e-16\n",
      "2.220446049250313e-16\n",
      "2.220446049250313e-16\n",
      "Сравнение (МВР):\n",
      "5.551115123125783e-17\n",
      "3.3306690738754696e-16\n",
      "2.220446049250313e-16\n"
     ]
    },
    {
     "data": {
      "text/plain": [
       "<matplotlib.legend.Legend at 0x7f4a2fc8a7d0>"
      ]
     },
     "execution_count": 28,
     "metadata": {},
     "output_type": "execute_result"
    },
    {
     "data": {
      "image/png": "[encoded data removed]",
      "text/plain": [
       "<Figure size 640x480 with 1 Axes>"
      ]
     },
     "metadata": {},
     "output_type": "display_data"
    }
   ],
   "source": [
    "def test(method, n_iter, name):\n",
    "    A = initialMatrix()\n",
    "    f = initialFreevec()\n",
    "\n",
    "    roots, diff = method(n_iter, A, f)\n",
    "    ref_roots = np.linalg.solve(A, f)\n",
    "\n",
    "    print(f\"Сравнение ({name}):\")\n",
    "    print(norm(roots - ref_roots))\n",
    "    print(norm(np.matmul(A, roots) - f))\n",
    "    print(norm(np.matmul(A, ref_roots) - f))\n",
    "\n",
    "    plt.scatter(range(0, len(diff)), np.log10(diff), label=name)\n",
    "\n",
    "test(soleZeydel, 18, \"Зейдель\")\n",
    "test(soleJacobi, 25, \"Якоби\")\n",
    "test(lambda n_iter, matrix, free: soleSOR(n_iter, matrix, free, 1.2), 35, \"МВР\")\n",
    "\n",
    "plt.xlabel(\"Количество итераций\")\n",
    "plt.ylabel(\"Логарифм невязки\")\n",
    "plt.legend()"
   ]
  },
  {
   "cell_type": "code",
   "execution_count": null,
   "metadata": {},
   "outputs": [],
   "source": []
  }
 ],
 "metadata": {
  "kernelspec": {
   "display_name": "Python 3 (ipykernel)",
   "language": "python",
   "name": "python3"
  },
  "language_info": {
   "codemirror_mode": {
    "name": "ipython",
    "version": 3
   },
   "file_extension": ".py",
   "mimetype": "text/x-python",
   "name": "python",
   "nbconvert_exporter": "python",
   "pygments_lexer": "ipython3",
   "version": "3.11.5"
  },
  "orig_nbformat": 4
 },
 "nbformat": 4,
 "nbformat_minor": 2
}
